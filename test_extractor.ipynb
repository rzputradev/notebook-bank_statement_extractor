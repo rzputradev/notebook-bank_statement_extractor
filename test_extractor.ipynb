{
 "cells": [
  {
   "cell_type": "code",
   "execution_count": 2,
   "metadata": {},
   "outputs": [],
   "source": [
    "import re\n",
    "from rapidfuzz import fuzz\n",
    "from helper import load_json_file, save_json_file\n",
    "# from doctr.io import DocumentFile\n",
    "# from doctr.models import ocr_predictor"
   ]
  },
  {
   "cell_type": "code",
   "execution_count": 3,
   "metadata": {},
   "outputs": [],
   "source": [
    "# model = ocr_predictor(pretrained=True)\n",
    "# doc = DocumentFile.from_pdf(\"sample/mandiri-transaction_inquery.pdf\")\n",
    "# result = model(doc)\n",
    "\n",
    "# save_json_file(\"sample/mandiri-transaction_inquery.json\", result.export())"
   ]
  },
  {
   "cell_type": "code",
   "execution_count": 43,
   "metadata": {},
   "outputs": [],
   "source": [
    "data = load_json_file(\"sample/mandiri-account_statement_report.json\")\n",
    "settings = load_json_file(\"sample/setting_parameter.json\")"
   ]
  },
  {
   "cell_type": "code",
   "execution_count": 5,
   "metadata": {},
   "outputs": [],
   "source": [
    "def normalize_string(s):\n",
    "    return re.sub(r'\\W+', ' ', s).lower()"
   ]
  },
  {
   "cell_type": "code",
   "execution_count": 47,
   "metadata": {},
   "outputs": [],
   "source": [
    "def get_statement_id(data):\n",
    "    normalized_data = normalize_string(data)\n",
    "    \n",
    "    ranking = []\n",
    "    \n",
    "    for setting in settings:\n",
    "        total_word_count = sum(len(keyword.split()) for keyword in setting['keywords'])\n",
    "        \n",
    "        scores = [fuzz.partial_ratio(normalize_string(keyword), normalized_data)\n",
    "                  for keyword in setting['keywords'] if fuzz.partial_ratio(normalize_string(keyword), normalized_data) > 80]  \n",
    "        \n",
    "        if scores:\n",
    "            final_score = sum(scores) * total_word_count\n",
    "            ranking.append({\n",
    "                \"setting\": setting,\n",
    "                \"final_score\": final_score\n",
    "            })\n",
    "\n",
    "    if not ranking:\n",
    "        return None\n",
    "    \n",
    "    return max(ranking, key=lambda x: x[\"final_score\"])[\"setting\"][\"id\"]"
   ]
  },
  {
   "cell_type": "code",
   "execution_count": 83,
   "metadata": {},
   "outputs": [
    {
     "name": "stdout",
     "output_type": "stream",
     "text": [
      "inv49tbs inv491bs 01 08 2022 14 30  sap inv vabe tbs 04 mcm inhousetri dari inv49 tbs sap 0 00 200 000 000 00 201 669 379 38 sebaungsawit plantations99102 01 08 2022 14 30  inv mcm in220858po231 ainhousetrf ke etam 12 337 102 00 33 0 00 189 332 277 38 wira utama99102 0408202 14 30  sutam ke 15 000 000 00 0 00 174 332 277 38 herni99102 c200202 15 22  mcm inhousetri ke the 7 000 000 00 0 00 167 332 277 38 herlnafranci559102 02 08 2022 15 22  tiket mcm inhousetrf ke beni 27 togar siregar99102 3 900016 00 0 00 163 423 861 38 02 08 2022 15 26  ops  mcm jul ainhousett ke imron 24 3 42720000 0 00 159 996 761 38 subhan99102 02 08 2022 15 26  ops  mcm ainhousetri lemburjul ke andi 156 049 461 38 27 3 947300 00 0 00 gunawan99102 02 08 2022 15 27  mcm vinny 27 iohoancnunrpr 840 00000 0 00 155 209 461 38 surya agung prima 15 27  mcm outwcn 0 00 0302024 sutarti99102  surya 840 00000 154 369 461 38 agungprima 02 08 2022 15 27  mcmoutw milki silmi 0 00 27 ngmomnicn surya 040 000 153 529 461 38 agung prima 0202021 15 27  clearingfee clearing feo 99102 2 90000 0 00 153 526 561 38 0206202 15 27  clearing clearing fee fee 99102 2 900 00 0 00 153 523 661 38 02 08 2022 15 27  clearing fee 0 00 27 clearing fee 99102 2 900 00 153 520 761 38 02 08 2022 30 18 49  pengembaliantket online tri 152137 1 981 300 00 0 00 151 539 361 38 53940101445750699102 02 08 2022 18 49  transferfee 0 00 151 532 861 38 30 99102 55000 00202 18 50  ke 5 486 000 00 0 00 146 048 861 38 02 08 2022 46 18 50  ke 3 557 000 00 0 00 142 489 861 38 le eofauis 02 08 2022 50 18 50  mcminhousett ke 830 000 00 0 00 141 659 861 38 sunarti99102 02 08 2022 18 50  mcminhousetr po367 ke 2 700 000 00 0 00 138 959 861 38 54 maryanto99102 02 08 2022 18 50  po368 mcminhousetrf ke yenny 129 000 00 0 00 138 830 861 38 57 natalia99102 02 08 2022 01 18 51  rostpnoete ke yulia 20 000 00 0 00 138 810 861 38 0206202 18 52  152164 108 000 00 0 00 138 702 861 38 02 08 2022 11 18 52  6 3000 0 00 138 696 361 38 transfer fee 99102 le 02 08 2022 18 52  po371  mcm inhouseti 372 ke yossy 151 000 00 0 00 138 545 361 38 11 lingga99102\n"
     ]
    }
   ],
   "source": [
    "def table_content(sentence, statement_id=0):\n",
    "    upper_limit = normalize_string(' '.join(filter(None, settings[statement_id]['column_names'].values())))\n",
    "    lower_limit = normalize_string(settings[statement_id]['buttom_devider'])\n",
    "    \n",
    "    threshold = 80\n",
    "\n",
    "    upper_start_index = 0  \n",
    "    lower_end_index = len(sentence) \n",
    "\n",
    "    if fuzz.partial_ratio(upper_limit, sentence) >= threshold:\n",
    "        upper_start_index = sentence.find(upper_limit) + len(upper_limit)\n",
    "\n",
    "    if fuzz.partial_ratio(lower_limit, sentence) >= threshold:\n",
    "        lower_end_index = sentence.find(lower_limit)\n",
    "\n",
    "    cut_sentence_output = sentence[upper_start_index:lower_end_index].strip()\n",
    "    \n",
    "    print(cut_sentence_output)\n",
    "\n",
    "\n",
    "test_sentance = 'laporan rekening koran a a  account statement report  mandiri account no 16500 idr surya agung period 01 aug 2022  31 aug 2022 currency idr branch kcjkt gedung pusat kehutanan opening balance 1 669 379 38 posting date remark reference no debit credit balance inv49tbs inv491bs 01 08 2022 14 30  sap inv vabe tbs 04 mcm inhousetri dari inv49 tbs sap 0 00 200 000 000 00 201 669 379 38 sebaungsawit plantations99102 01 08 2022 14 30  inv mcm in220858po231 ainhousetrf ke etam 12 337 102 00 33 0 00 189 332 277 38 wira utama99102 0408202 14 30  sutam ke 15 000 000 00 0 00 174 332 277 38 herni99102 c200202 15 22  mcm inhousetri ke the 7 000 000 00 0 00 167 332 277 38 herlnafranci559102 02 08 2022 15 22  tiket mcm inhousetrf ke beni 27 togar siregar99102 3 900016 00 0 00 163 423 861 38 02 08 2022 15 26  ops  mcm jul ainhousett ke imron 24 3 42720000 0 00 159 996 761 38 subhan99102 02 08 2022 15 26  ops  mcm ainhousetri lemburjul ke andi 156 049 461 38 27 3 947300 00 0 00 gunawan99102 02 08 2022 15 27  mcm vinny 27 iohoancnunrpr 840 00000 0 00 155 209 461 38 surya agung prima 15 27  mcm outwcn 0 00 0302024 sutarti99102  surya 840 00000 154 369 461 38 agungprima 02 08 2022 15 27  mcmoutw milki silmi 0 00 27 ngmomnicn surya 040 000 153 529 461 38 agung prima 0202021 15 27  clearingfee clearing feo 99102 2 90000 0 00 153 526 561 38 0206202 15 27  clearing clearing fee fee 99102 2 900 00 0 00 153 523 661 38 02 08 2022 15 27  clearing fee 0 00 27 clearing fee 99102 2 900 00 153 520 761 38 02 08 2022 30 18 49  pengembaliantket online tri 152137 1 981 300 00 0 00 151 539 361 38 53940101445750699102 02 08 2022 18 49  transferfee 0 00 151 532 861 38 30 99102 55000 00202 18 50  ke 5 486 000 00 0 00 146 048 861 38 02 08 2022 46 18 50  ke 3 557 000 00 0 00 142 489 861 38 le eofauis 02 08 2022 50 18 50  mcminhousett ke 830 000 00 0 00 141 659 861 38 sunarti99102 02 08 2022 18 50  mcminhousetr po367 ke 2 700 000 00 0 00 138 959 861 38 54 maryanto99102 02 08 2022 18 50  po368 mcminhousetrf ke yenny 129 000 00 0 00 138 830 861 38 57 natalia99102 02 08 2022 01 18 51  rostpnoete ke yulia 20 000 00 0 00 138 810 861 38 0206202 18 52  152164 108 000 00 0 00 138 702 861 38 02 08 2022 11 18 52  6 3000 0 00 138 696 361 38 transfer fee 99102 le 02 08 2022 18 52  po371  mcm inhouseti 372 ke yossy 151 000 00 0 00 138 545 361 38 11 lingga99102 '\n",
    "table_content(test_sentance, 0)"
   ]
  },
  {
   "cell_type": "code",
   "execution_count": 1,
   "metadata": {},
   "outputs": [
    {
     "ename": "NameError",
     "evalue": "name 'data' is not defined",
     "output_type": "error",
     "traceback": [
      "\u001b[1;31m---------------------------------------------------------------------------\u001b[0m",
      "\u001b[1;31mNameError\u001b[0m                                 Traceback (most recent call last)",
      "Cell \u001b[1;32mIn[1], line 22\u001b[0m\n\u001b[0;32m     18\u001b[0m         result\u001b[38;5;241m.\u001b[39mappend(normalized_page)  \n\u001b[0;32m     20\u001b[0m     \u001b[38;5;28;01mreturn\u001b[39;00m result\n\u001b[1;32m---> 22\u001b[0m result \u001b[38;5;241m=\u001b[39m get_table(\u001b[43mdata\u001b[49m)\n\u001b[0;32m     24\u001b[0m \u001b[38;5;28mprint\u001b[39m(result[\u001b[38;5;241m0\u001b[39m])\n",
      "\u001b[1;31mNameError\u001b[0m: name 'data' is not defined"
     ]
    }
   ],
   "source": [
    "def get_table(data):\n",
    "    result = []\n",
    "    for page in data[\"pages\"]:\n",
    "        id = page[\"page_idx\"]\n",
    "        combined_text = \"\"\n",
    "        for block in page['blocks']:\n",
    "            for line in block['lines']:\n",
    "                for word in line['words']:\n",
    "                    combined_text += normalize_string(word['value']) + \" \"\n",
    "        \n",
    "        statement_id = get_statement_id(combined_text) \n",
    "\n",
    "        normalized_page = {\n",
    "                \"id\": id,\n",
    "                \"statement_id\": statement_id\n",
    "            }\n",
    "        \n",
    "        result.append(normalized_page)  \n",
    "               \n",
    "    return result\n",
    "\n",
    "result = get_table(data)\n",
    "\n",
    "print(result[0])"
   ]
  },
  {
   "cell_type": "code",
   "execution_count": 7,
   "metadata": {},
   "outputs": [],
   "source": [
    "def normalize_json(data):\n",
    "    result = {\"pages\": []}\n",
    "\n",
    "    for page in data['pages']:\n",
    "        page_id = page['page_idx']\n",
    "        word_entries = []\n",
    "        combined_words = []\n",
    "\n",
    "        for block in page['blocks']:\n",
    "            for line in block['lines']:\n",
    "                for word in line['words']:\n",
    "                    if len(combined_words) < 12:\n",
    "                        combined_words.append(normalize_string(word['value']))\n",
    "                    word_entry = {\n",
    "                        \"value\": word['value'],\n",
    "                        \"confidence\": word['confidence'],\n",
    "                        \"geometry\": word['geometry']\n",
    "                    }\n",
    "                    word_entries.append(word_entry)\n",
    "        \n",
    "        cleaned_words = [''.join(word.split()) for word in combined_words]\n",
    "        combined_words_text = ' '.join(cleaned_words)\n",
    "\n",
    "        statement_type = get_statement_type(combined_words_text)\n",
    "        \n",
    "        normalized_page = {\n",
    "            \"page_id\": page_id,\n",
    "            \"statement\": statement_type,\n",
    "            \"words\": word_entries\n",
    "        }\n",
    "\n",
    "        result[\"pages\"].append(normalized_page)\n",
    "    \n",
    "    return result\n"
   ]
  },
  {
   "cell_type": "code",
   "execution_count": 8,
   "metadata": {},
   "outputs": [],
   "source": [
    "normalize_result = normalize_json(data)\n",
    "save_json_file(\"sample/mandiri-transaction_inquery_normalized.json\", normalize_result)"
   ]
  },
  {
   "cell_type": "code",
   "execution_count": 9,
   "metadata": {},
   "outputs": [
    {
     "name": "stdout",
     "output_type": "stream",
     "text": [
      "a [[0.6920923056722689, 0.0224609375], [0.701766018907563, 0.0283203125]]\n",
      "a [[0.6920923056722689, 0.0224609375], [0.701766018907563, 0.0283203125]]\n",
      "a [[0.6920923056722689, 0.0224609375], [0.701766018907563, 0.0283203125]]\n",
      "A [[0.7197314863445379, 0.0205078125], [0.739078912815126, 0.0302734375]]\n",
      "A [[0.7197314863445379, 0.0205078125], [0.739078912815126, 0.0302734375]]\n",
      "A [[0.7197314863445379, 0.0205078125], [0.739078912815126, 0.0302734375]]\n",
      "No [[0.2070246848739496, 0.06640625], [0.22775407037815126, 0.078125]]\n",
      "Balance [[0.20840664390756303, 0.1328125], [0.25539325105042016, 0.1435546875]]\n",
      "Posting [[0.1655659138655462, 0.1865234375], [0.21393448004201682, 0.201171875]]\n",
      "Date [[0.2111705619747899, 0.1865234375], [0.24571953781512607, 0.2001953125]]\n",
      "Remark [[0.2636850052521008, 0.1865234375], [0.31481748949579835, 0.2001953125]]\n",
      "Reference [[0.4018809086134454, 0.181640625], [0.4668329831932773, 0.1943359375]]\n",
      "No [[0.4018809086134454, 0.193359375], [0.4239922531512605, 0.2041015625]]\n",
      "Debit [[0.4930902048319328, 0.1865234375], [0.5317850577731092, 0.2001953125]]\n",
      "Credit [[0.5856814600840337, 0.1875], [0.6285221901260505, 0.201171875]]\n",
      "Balance [[0.689328387605042, 0.1884765625], [0.7418428308823529, 0.201171875]]\n"
     ]
    }
   ],
   "source": [
    "def find_header_coordinate(data):\n",
    "    column_names = list(filter(None, data['statement']['column_names'].values()))\n",
    "\n",
    "    for word in data['words']:\n",
    "        for column_name in column_names:\n",
    "            if fuzz.partial_ratio(normalize_string(column_name), normalize_string(word['value'])) > 80:\n",
    "                print(word['value'], word['geometry'])\n",
    "\n",
    "\n",
    "test_page = normalize_result['pages'][0]\n",
    "transaction_result = find_header_coordinate(test_page)\n"
   ]
  }
 ],
 "metadata": {
  "kernelspec": {
   "display_name": "manual_ocr",
   "language": "python",
   "name": "python3"
  },
  "language_info": {
   "codemirror_mode": {
    "name": "ipython",
    "version": 3
   },
   "file_extension": ".py",
   "mimetype": "text/x-python",
   "name": "python",
   "nbconvert_exporter": "python",
   "pygments_lexer": "ipython3",
   "version": "3.10.14"
  }
 },
 "nbformat": 4,
 "nbformat_minor": 2
}
