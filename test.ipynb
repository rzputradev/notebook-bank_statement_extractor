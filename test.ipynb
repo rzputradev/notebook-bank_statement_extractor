{
 "cells": [
  {
   "cell_type": "code",
   "execution_count": 20,
   "metadata": {},
   "outputs": [],
   "source": [
    "from helper import normalize_text\n",
    "import difflib"
   ]
  },
  {
   "cell_type": "code",
   "execution_count": 5,
   "metadata": {},
   "outputs": [
    {
     "name": "stdout",
     "output_type": "stream",
     "text": [
      "Best match found at positions: (6, 7) with ratio 1.0\n",
      "Words: ['no', 'ofdebit']\n"
     ]
    },
    {
     "data": {
      "text/plain": [
       "(6, 7)"
      ]
     },
     "execution_count": 5,
     "metadata": {},
     "output_type": "execute_result"
    }
   ],
   "source": [
    "import difflib\n",
    "\n",
    "def find_best_match_words(string, substring, threshold=0.9, window_variation=1):\n",
    "    string_words = string\n",
    "    substring_words = substring\n",
    "    len_string = len(string_words)\n",
    "    len_sub = len(substring_words)\n",
    "    \n",
    "    substring_space = ' '.join(substring_words)\n",
    "    substring_concat = ''.join(substring_words)\n",
    "    \n",
    "    best_ratio = 0\n",
    "    best_start = None\n",
    "    best_end = None\n",
    "\n",
    "    min_window = max(1, len_sub - window_variation)\n",
    "    max_window = len_sub + window_variation\n",
    "    \n",
    "    for window_size in range(min_window, max_window + 1):\n",
    "        for start in range(len_string - window_size + 1):\n",
    "            end = start + window_size\n",
    "            candidate_words = string_words[start:end]\n",
    "            candidate_space = ' '.join(candidate_words)\n",
    "            candidate_concat = ''.join(candidate_words)\n",
    "\n",
    "            ratio_space = difflib.SequenceMatcher(None, candidate_space, substring_space).ratio()\n",
    "            ratio_concat = difflib.SequenceMatcher(None, candidate_concat, substring_concat).ratio()\n",
    "            ratio = max(ratio_space, ratio_concat)\n",
    "            \n",
    "            if ratio > best_ratio:\n",
    "                best_ratio = ratio\n",
    "                best_start = start\n",
    "                best_end = end - 1\n",
    "                \n",
    "    if best_start is not None and best_ratio >= threshold:\n",
    "        print(f\"Best match found at positions: ({best_start}, {best_end}) with ratio {best_ratio}\")\n",
    "        print(f\"Words: {string_words[best_start:best_end+1]}\")\n",
    "        return best_start, best_end\n",
    "    else:\n",
    "        print(\"No match found\")\n",
    "        return None\n",
    "\n",
    "\n",
    "# Example usage with the new input format\n",
    "# string = ['a', 'a', 'no', 'balance', 'posting', 'date', 'remark', 'reference', 'no', 'debit', 'credit', 'balance', 'eofauis', 'rostpnoete']\n",
    "# substring = ['posting', 'date', 'remark', 'reference', 'no', 'debit', 'credit', 'balance']\n",
    "# substring = ['no', 'of', 'debit']\n",
    "\n",
    "string = ['po', 'enocgatenierenno', 'l', 'comate', 'e', 'e', 'no', 'ofdebit', 'debited', 'no', 'of', 'credit', 'credited', 'closing', 'balance']\n",
    "substring = ['no', 'of', 'debit']\n",
    "\n",
    "\n",
    "\n",
    "find_best_match_words(string, substring)\n"
   ]
  },
  {
   "cell_type": "code",
   "execution_count": 33,
   "metadata": {},
   "outputs": [
    {
     "name": "stdout",
     "output_type": "stream",
     "text": [
      "0.2041015625\n"
     ]
    }
   ],
   "source": [
    "subset_data = [\n",
    "    {'value': 'No', 'confidence': 0.9998941421508789, 'geometry': [[0.4018809086134454, 0.193359375], [0.4239922531512605, 0.2041015625]]},\n",
    "    {'value': 'Debit', 'confidence': 0.9976643323898315, 'geometry': [[0.4930902048319328, 0.1865234375], [0.5317850577731092, 0.2001953125]]}\n",
    "]\n",
    "\n",
    "lowest_y_end_subset = max(item['geometry'][1][1] for item in subset_data)\n",
    "print(lowest_y_end_subset)\n"
   ]
  }
 ],
 "metadata": {
  "kernelspec": {
   "display_name": "manual_ocr",
   "language": "python",
   "name": "python3"
  },
  "language_info": {
   "codemirror_mode": {
    "name": "ipython",
    "version": 3
   },
   "file_extension": ".py",
   "mimetype": "text/x-python",
   "name": "python",
   "nbconvert_exporter": "python",
   "pygments_lexer": "ipython3",
   "version": "3.10.14"
  }
 },
 "nbformat": 4,
 "nbformat_minor": 2
}
