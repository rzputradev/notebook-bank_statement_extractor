{
 "cells": [
  {
   "cell_type": "code",
   "execution_count": null,
   "metadata": {},
   "outputs": [],
   "source": [
    "from fuzzywuzzy import fuzz\n",
    "import regex  # This is the 'regex' module, which supports fuzzy matching\n",
    "\n",
    "def find_fuzzy_match(substring, string, threshold=80):\n",
    "    \"\"\"\n",
    "    Find the start index of the best fuzzy match of 'substring' within 'string'.\n",
    "    Returns -1 if no match meets the threshold.\n",
    "    \"\"\"\n",
    "    # Define the maximum allowed edit distance based on the threshold\n",
    "    max_errors = int(len(substring) * (1 - threshold / 100))\n",
    "    # Build the regex pattern with fuzzy matching\n",
    "    pattern = f'({regex.escape(substring)}){{e<={max_errors}}}'\n",
    "    # Search for the pattern in the string\n",
    "    match = regex.search(pattern, string)\n",
    "    if match:\n",
    "        return match.start()\n",
    "    else:\n",
    "        return -1\n",
    "\n",
    "def table_content(sentence, statement_id=0):\n",
    "    # Assuming 'normalize_string' and 'settings' are defined elsewhere in your code\n",
    "    upper_limit = normalize_string(' '.join(filter(None, settings[statement_id]['column_names'].values())))\n",
    "    lower_limit = normalize_string(settings[statement_id]['buttom_devider'])\n",
    "    \n",
    "    threshold = 80\n",
    "\n",
    "    upper_start_index = 0  \n",
    "    lower_end_index = len(sentence) \n",
    "\n",
    "    # Find the fuzzy match index for upper_limit\n",
    "    upper_match_index = find_fuzzy_match(upper_limit, sentence, threshold)\n",
    "    if upper_match_index != -1:\n",
    "        upper_start_index = upper_match_index + len(upper_limit)\n",
    "\n",
    "    # Find the fuzzy match index for lower_limit\n",
    "    lower_match_index = find_fuzzy_match(lower_limit, sentence, threshold)\n",
    "    if lower_match_index != -1:\n",
    "        lower_end_index = lower_match_index\n",
    "\n",
    "    cut_sentence_output = sentence[upper_start_index:lower_end_index].strip()\n",
    "    \n",
    "    print(cut_sentence_output)\n"
   ]
  }
 ],
 "metadata": {
  "kernelspec": {
   "display_name": "manual_ocr",
   "language": "python",
   "name": "python3"
  },
  "language_info": {
   "codemirror_mode": {
    "name": "ipython",
    "version": 3
   },
   "file_extension": ".py",
   "mimetype": "text/x-python",
   "name": "python",
   "nbconvert_exporter": "python",
   "pygments_lexer": "ipython3",
   "version": "3.10.14"
  }
 },
 "nbformat": 4,
 "nbformat_minor": 2
}
