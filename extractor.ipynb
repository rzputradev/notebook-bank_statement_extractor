{
 "cells": [
  {
   "cell_type": "code",
   "execution_count": 2,
   "metadata": {},
   "outputs": [],
   "source": [
    "import re\n",
    "from rapidfuzz import fuzz\n",
    "from helper import load_json_file, save_json_file\n",
    "\n",
    "data = load_json_file(\"sample/mandiri-account_statement_report.json\")\n",
    "settings = load_json_file(\"sample/setting_parameter.json\")"
   ]
  },
  {
   "cell_type": "code",
   "execution_count": 3,
   "metadata": {},
   "outputs": [],
   "source": [
    "def normalize_string(s):\n",
    "    return re.sub(r'\\W+', ' ', s).lower()"
   ]
  },
  {
   "cell_type": "code",
   "execution_count": 49,
   "metadata": {},
   "outputs": [],
   "source": [
    "def get_statement_type(data):\n",
    "    normalized_data = normalize_string(data)\n",
    "    ranking = []\n",
    "\n",
    "    for setting in settings['statement_types']:\n",
    "        scores = []\n",
    "        total_word_count = sum(len(keyword.split()) for keyword in setting['keywords'])\n",
    "        \n",
    "        for keyword in setting['keywords']:\n",
    "            score = fuzz.partial_ratio(normalize_string(keyword), normalized_data)\n",
    "            if score > 80:\n",
    "                scores.append(score)\n",
    "        \n",
    "        if scores:\n",
    "            final_score = sum(scores) * total_word_count\n",
    "            ranking.append({\n",
    "                \"setting\": setting,\n",
    "                \"final_score\": final_score\n",
    "            })\n",
    "\n",
    "    if not ranking:\n",
    "        return None\n",
    "    \n",
    "    best_match = max(ranking, key=lambda x: x[\"final_score\"])\n",
    "    best_match[\"setting\"][\"final_score\"] = best_match[\"final_score\"]\n",
    "\n",
    "    return best_match[\"setting\"]"
   ]
  },
  {
   "cell_type": "code",
   "execution_count": 144,
   "metadata": {},
   "outputs": [],
   "source": [
    "def normalize_text(data):\n",
    "    result = {\"pages\": []}\n",
    "\n",
    "    for page in data['pages']:\n",
    "        page_id = page['page_idx']\n",
    "        word_entries = []\n",
    "        combined_words = []\n",
    "\n",
    "        for block in page['blocks']:\n",
    "            for line in block['lines']:\n",
    "                for word in line['words']:\n",
    "                    if len(combined_words) < 12:\n",
    "                        combined_words.append(normalize_string(word['value']))\n",
    "                    word_entry = {\n",
    "                        \"value\": word['value'],\n",
    "                        \"confidence\": word['confidence'],\n",
    "                        \"geometry\": word['geometry']\n",
    "                    }\n",
    "                    word_entries.append(word_entry)\n",
    "        \n",
    "        cleaned_words = [''.join(word.split()) for word in combined_words]\n",
    "        combined_words_text = ' '.join(cleaned_words)\n",
    "        \n",
    "        normalized_page = {\n",
    "            \"page_id\": page_id,\n",
    "            \"combined_words\": combined_words_text,\n",
    "            \"words\": word_entries\n",
    "        }\n",
    "\n",
    "        result[\"pages\"].append(normalized_page)\n",
    "    \n",
    "    return result\n"
   ]
  },
  {
   "cell_type": "code",
   "execution_count": 145,
   "metadata": {},
   "outputs": [],
   "source": [
    "results = normalize_text(data)\n",
    "save_json_file(\"sample/mandiri-account_statement_report_normalized.json\", results)"
   ]
  },
  {
   "cell_type": "code",
   "execution_count": 146,
   "metadata": {},
   "outputs": [
    {
     "name": "stdout",
     "output_type": "stream",
     "text": [
      "laporan rekening koran a a account statement report mandiri account no 16500\n",
      "02082022 15 1852 inhousetrf ke yossy 6200000 000 13648336138 02082022 1852 18\n",
      "kaskecil 12082022 0050 372009736106008076 9422transfer 89040000 03 1120510254656010 000 1203346038 20050 fensteres\n",
      "po410 23082022 1952 mcm inhousetrf key yossy 45 inccatantgnpno linggatransfer 6300000 000\n",
      "2 po420 1821 mcm inhousetif kejohnny 3002021 202208301609609409010 budiantotransfer fee 81000000 000\n",
      "laporan rekening koran e a  account statement report mandiri account no\n",
      "01092022 1532 mcmoutw cn indriani 15 citradewiciearing fee99102 suryaagung 227900000 000 6382200016\n",
      "202000070075465069102 gapokjul122 02002020 0909 onlinetr 46059 le 15000 000 626613916 02092022 0909\n",
      "20200616370621899102 po433 06092022 1637 mcm inhousetif ke sartika  28 iriawantransfer fee\n",
      "tgl31 agt 09092022 1120 ke 02 lonetn fee 120000000 000 138710257116 09092022\n",
      "po279 14092022 0b40 mcminhousetif ke 351350000 17 saifatransfer fee 000 32754828518 2020913192289850299102\n",
      "beamatera1911622 19092022 1439 16092022 mts 35 transfer mtr1609 700000 000 6468489860 2022mtr\n",
      "23092022 1620 transfer fee 12 202209231615975175 99102 650000 000 47164629260 23092022 1846\n",
      "23092022 1846 mcm 1outw cn bpk 16 eesnisons fee99102 894464000 000 39521534460\n",
      "po467 2202021 1915 lkevoua 125300000 000 26164541160 7172266277799102 27092022 1915 mcm l\n",
      "no of debit 245 total amount debited 770637524089 no of credit 19\n"
     ]
    }
   ],
   "source": [
    "for result in results['pages']:\n",
    "    print(result['combined_words'])"
   ]
  }
 ],
 "metadata": {
  "kernelspec": {
   "display_name": "manual_ocr",
   "language": "python",
   "name": "python3"
  },
  "language_info": {
   "codemirror_mode": {
    "name": "ipython",
    "version": 3
   },
   "file_extension": ".py",
   "mimetype": "text/x-python",
   "name": "python",
   "nbconvert_exporter": "python",
   "pygments_lexer": "ipython3",
   "version": "3.10.14"
  }
 },
 "nbformat": 4,
 "nbformat_minor": 2
}
