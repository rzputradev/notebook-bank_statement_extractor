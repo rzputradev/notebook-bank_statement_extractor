{
 "cells": [
  {
   "cell_type": "code",
   "execution_count": 81,
   "metadata": {},
   "outputs": [],
   "source": [
    "import re\n",
    "from rapidfuzz import fuzz\n",
    "from helper import load_json_file, save_json_file, normalize_text"
   ]
  },
  {
   "cell_type": "code",
   "execution_count": 82,
   "metadata": {},
   "outputs": [],
   "source": [
    "data = load_json_file(\"sample/mandiri-account_statement_report.json\")\n",
    "settings = load_json_file(\"sample/setting_parameter.json\")"
   ]
  },
  {
   "cell_type": "code",
   "execution_count": 83,
   "metadata": {},
   "outputs": [],
   "source": [
    "def get_statement_id(data):\n",
    "    normalized_data = normalize_text(data)\n",
    "    \n",
    "    ranking = []\n",
    "    \n",
    "    for setting in settings:\n",
    "        total_word_count = sum(len(keyword.split()) for keyword in setting['keyword'])\n",
    "        \n",
    "        scores = [fuzz.partial_ratio(normalize_text(keyword), normalized_data)\n",
    "                  for keyword in setting['keyword'] if fuzz.partial_ratio(normalize_text(keyword), normalized_data) > 80]  \n",
    "        \n",
    "        if scores:\n",
    "            final_score = sum(scores) * total_word_count\n",
    "            ranking.append({\n",
    "                \"setting\": setting,\n",
    "                \"final_score\": final_score\n",
    "            })\n",
    "\n",
    "    if not ranking:\n",
    "        return None\n",
    "    \n",
    "    return max(ranking, key=lambda x: x[\"final_score\"])[\"setting\"][\"id\"]"
   ]
  },
  {
   "cell_type": "code",
   "execution_count": 109,
   "metadata": {},
   "outputs": [],
   "source": [
    "def normalize_json(data):\n",
    "    result = []\n",
    "\n",
    "    for page in data['pages']:\n",
    "        page_id = page['page_idx']\n",
    "\n",
    "        page_words = [\n",
    "            word\n",
    "            for block in page['blocks']\n",
    "            for line in block['lines']\n",
    "            for word in line['words']\n",
    "        ]\n",
    "\n",
    "        combined_words = [\n",
    "            ''.join(normalize_text(word['value']).split())\n",
    "            for word in page_words[:20]\n",
    "        ]\n",
    "        combined_words_text = ' '.join(combined_words)\n",
    "        statement_id = get_statement_id(combined_words_text)\n",
    "\n",
    "        word_entries = [\n",
    "            {\n",
    "                \"value\": word['value'],\n",
    "                \"confidence\": word['confidence'],\n",
    "                \"geometry\": word['geometry']\n",
    "            }\n",
    "            for word in page_words\n",
    "        ]\n",
    "\n",
    "        normalized_page = {\n",
    "            \"id\": page_id,\n",
    "            \"statement_id\": statement_id,\n",
    "            \"words\": word_entries\n",
    "        }  \n",
    "\n",
    "        result.append(normalized_page)\n",
    "\n",
    "    return result\n",
    "\n",
    "\n",
    "normalized = normalize_json(data)\n"
   ]
  },
  {
   "cell_type": "code",
   "execution_count": 107,
   "metadata": {},
   "outputs": [],
   "source": [
    "def get_setting(statement_id, key):\n",
    "    setting = next((setting for setting in settings if setting[\"id\"] == statement_id), None)\n",
    "    if not setting:\n",
    "         return None\n",
    "    return setting[key]"
   ]
  },
  {
   "cell_type": "code",
   "execution_count": 118,
   "metadata": {},
   "outputs": [
    {
     "name": "stdout",
     "output_type": "stream",
     "text": [
      "[[0.6920923056722689, 0.0224609375], [0.701766018907563, 0.0283203125]]\n",
      "['Posting', 'Date', 'Remark', 'Reference', 'No', 'Debit', 'Credit', 'Balance']\n"
     ]
    }
   ],
   "source": [
    "def get_header_geometry(data):\n",
    "    statement_id = data['statement_id']\n",
    "\n",
    "    if statement_id is None:\n",
    "        return None\n",
    "\n",
    "    setting = get_setting(statement_id, \"column_name\")\n",
    "    keyword = [word for value in setting.values() for word in value.split()]\n",
    "\n",
    "    for word in data['words']:\n",
    "        if any(word['value'].lower() in s for s in keyword):\n",
    "            print(word['geometry'])\n",
    "            break\n",
    "    \n",
    "    print(keyword)\n",
    "\n",
    "get_header_geometry(normalized[0])"
   ]
  }
 ],
 "metadata": {
  "kernelspec": {
   "display_name": "manual_ocr",
   "language": "python",
   "name": "python3"
  },
  "language_info": {
   "codemirror_mode": {
    "name": "ipython",
    "version": 3
   },
   "file_extension": ".py",
   "mimetype": "text/x-python",
   "name": "python",
   "nbconvert_exporter": "python",
   "pygments_lexer": "ipython3",
   "version": "3.10.14"
  }
 },
 "nbformat": 4,
 "nbformat_minor": 2
}
