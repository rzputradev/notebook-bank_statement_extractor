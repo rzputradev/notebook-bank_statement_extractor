{
 "cells": [
  {
   "cell_type": "code",
   "execution_count": 17,
   "metadata": {},
   "outputs": [],
   "source": [
    "import json\n",
    "\n",
    "def get_date(normalized_data, target_page, tolerance=0.01):\n",
    "    with open(normalized_data, 'r') as file:\n",
    "        data = json.load(file)\n",
    "\n",
    "    x_start = float('inf')\n",
    "    date = []\n",
    "    \n",
    "    for page in data:\n",
    "        if page['page_id'] == target_page and 'words' in page:\n",
    "            for word in page['words']:\n",
    "                x_coordinate = word['geometry'][0][0]\n",
    "                y_coordinate = word['geometry'][0][1]\n",
    "                if x_coordinate < x_start:\n",
    "                    x_start = x_coordinate\n",
    "\n",
    "                if abs(x_coordinate - x_start) <= tolerance:\n",
    "                    date.append((word['value'], x_coordinate, y_coordinate))\n",
    "\n",
    "    return  date\n"
   ]
  },
  {
   "cell_type": "code",
   "execution_count": 18,
   "metadata": {},
   "outputs": [
    {
     "data": {
      "text/plain": [
       "[('02/06/2022', 0.05930861928104575, 0.3662109375),\n",
       " ('03/06/2022', 0.05930861928104575, 0.3857421875),\n",
       " ('03/06/2022', 0.05930861928104575, 0.4052734375),\n",
       " ('06/06/2022', 0.05930861928104575, 0.4345703125),\n",
       " ('06/06/2022', 0.05930861928104575, 0.46484375),\n",
       " ('07/06/2022', 0.05930861928104575, 0.494140625),\n",
       " ('07/06/2022', 0.05930861928104575, 0.5244140625),\n",
       " ('08/06/2022', 0.05930861928104575, 0.54296875),\n",
       " ('08/06/2022', 0.05930861928104575, 0.5732421875),\n",
       " ('09/06/2022', 0.05930861928104575, 0.591796875),\n",
       " ('09/06/2022', 0.05796504799836599, 0.6220703125),\n",
       " ('09/06/2022', 0.05796504799836599, 0.662109375),\n",
       " ('09/06/2022', 0.05796504799836599, 0.6923828125),\n",
       " ('10/06/2022', 0.05930861928104575, 0.7216796875),\n",
       " ('10/06/2022', 0.05930861928104575, 0.7509765625),\n",
       " ('10/06/2022', 0.05930861928104575, 0.7705078125),\n",
       " ('10/06/2022', 0.05930861928104575, 0.7900390625),\n",
       " ('13/06/2022', 0.05930861928104575, 0.830078125),\n",
       " ('13/06/2022', 0.05930861928104575, 0.849609375)]"
      ]
     },
     "execution_count": 18,
     "metadata": {},
     "output_type": "execute_result"
    }
   ],
   "source": [
    "normalized_data = 'sample/normalized/mandiri-transaction_inquery.json'\n",
    "target_page = 0\n",
    "date = get_date(normalized_data, target_page)\n",
    "date"
   ]
  }
 ],
 "metadata": {
  "kernelspec": {
   "display_name": "manual_extractor",
   "language": "python",
   "name": "python3"
  },
  "language_info": {
   "codemirror_mode": {
    "name": "ipython",
    "version": 3
   },
   "file_extension": ".py",
   "mimetype": "text/x-python",
   "name": "python",
   "nbconvert_exporter": "python",
   "pygments_lexer": "ipython3",
   "version": "3.10.15"
  }
 },
 "nbformat": 4,
 "nbformat_minor": 2
}
