{
 "cells": [
  {
   "cell_type": "code",
   "execution_count": 1,
   "metadata": {},
   "outputs": [
    {
     "name": "stderr",
     "output_type": "stream",
     "text": [
      "e:\\anaconda\\envs\\manual_extractor\\lib\\site-packages\\tqdm\\auto.py:21: TqdmWarning: IProgress not found. Please update jupyter and ipywidgets. See https://ipywidgets.readthedocs.io/en/stable/user_install.html\n",
      "  from .autonotebook import tqdm as notebook_tqdm\n",
      "WARNING:tensorflow:From e:\\anaconda\\envs\\manual_extractor\\lib\\site-packages\\keras\\src\\losses.py:2976: The name tf.losses.sparse_softmax_cross_entropy is deprecated. Please use tf.compat.v1.losses.sparse_softmax_cross_entropy instead.\n",
      "\n",
      "WARNING:tensorflow:From e:\\anaconda\\envs\\manual_extractor\\lib\\site-packages\\tf2onnx\\tf_loader.py:68: The name tf.reset_default_graph is deprecated. Please use tf.compat.v1.reset_default_graph instead.\n",
      "\n",
      "WARNING:tensorflow:From e:\\anaconda\\envs\\manual_extractor\\lib\\site-packages\\tf2onnx\\tf_loader.py:72: The name tf.train.import_meta_graph is deprecated. Please use tf.compat.v1.train.import_meta_graph instead.\n",
      "\n",
      "WARNING:tensorflow:From e:\\anaconda\\envs\\manual_extractor\\lib\\site-packages\\keras\\src\\backend.py:873: The name tf.get_default_graph is deprecated. Please use tf.compat.v1.get_default_graph instead.\n",
      "\n"
     ]
    }
   ],
   "source": [
    "import os\n",
    "from doctr.io import DocumentFile\n",
    "from doctr.models import ocr_predictor\n",
    "\n",
    "from helper import save_json_file"
   ]
  },
  {
   "cell_type": "code",
   "execution_count": 2,
   "metadata": {},
   "outputs": [],
   "source": [
    "def scan_document(path):\n",
    "   if not os.path.exists(path):\n",
    "      raise FileNotFoundError(f\"The file '{path}' does not exist.\")\n",
    "   \n",
    "   if not os.path.isfile(path):\n",
    "      raise ValueError(f\"The path '{path}' is not a regular file.\")\n",
    "   \n",
    "   if not path.lower().endswith('.pdf'):\n",
    "      raise ValueError(\"The file must be a PDF.\")\n",
    "   \n",
    "   model = ocr_predictor(pretrained=True)\n",
    "   doc = DocumentFile.from_pdf(path)\n",
    "   \n",
    "   result = model(doc)\n",
    "   json_result = result.export()\n",
    "   \n",
    "   return json_result\n"
   ]
  },
  {
   "cell_type": "code",
   "execution_count": 10,
   "metadata": {},
   "outputs": [],
   "source": [
    "result = scan_document(\"sample/document/bri-statement_transaction.pdf\")"
   ]
  },
  {
   "cell_type": "code",
   "execution_count": null,
   "metadata": {},
   "outputs": [],
   "source": [
    "def process_all_document(input_folder, output_folder):\n",
    "   if not os.path.exists(input_folder):\n",
    "      raise FileNotFoundError(f\"The folder '{input_folder}' does not exist.\")\n",
    "   \n",
    "   if not os.path.isdir(input_folder):\n",
    "      raise ValueError(f\"The path '{input_folder}' is not a directory.\")\n",
    "   \n",
    "   if not os.path.exists(output_folder):\n",
    "      os.makedirs(output_folder)\n",
    "   \n",
    "   for filename in os.listdir(input_folder):\n",
    "      input_file_path = os.path.join(input_folder, filename)\n",
    "      output_filename = filename.replace('.pdf', '.json')\n",
    "      output_file_path = os.path.join(output_folder, output_filename)\n",
    "      \n",
    "      try:\n",
    "         result = scan_document(input_file_path)\n",
    "         save_json_file(output_file_path, result)\n",
    "      except Exception as e:\n",
    "         print(f\"Error processing '{input_file_path}': {e}\")"
   ]
  },
  {
   "cell_type": "code",
   "execution_count": null,
   "metadata": {},
   "outputs": [],
   "source": [
    "process_all_document('sample/document', 'sample/scanned')"
   ]
  },
  {
   "cell_type": "code",
   "execution_count": 11,
   "metadata": {},
   "outputs": [],
   "source": [
    "save_json_file(\"sample/scanned/bri-statement_transaction.json\", result)"
   ]
  }
 ],
 "metadata": {
  "kernelspec": {
   "display_name": "manual_extractor",
   "language": "python",
   "name": "python3"
  },
  "language_info": {
   "codemirror_mode": {
    "name": "ipython",
    "version": 3
   },
   "file_extension": ".py",
   "mimetype": "text/x-python",
   "name": "python",
   "nbconvert_exporter": "python",
   "pygments_lexer": "ipython3",
   "version": "3.10.15"
  }
 },
 "nbformat": 4,
 "nbformat_minor": 2
}
